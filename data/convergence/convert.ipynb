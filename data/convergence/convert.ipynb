{
 "cells": [
  {
   "cell_type": "code",
   "execution_count": 23,
   "id": "fe3455eb",
   "metadata": {},
   "outputs": [],
   "source": [
    "import numpy as np"
   ]
  },
  {
   "cell_type": "code",
   "execution_count": 24,
   "id": "ef9f1a7e",
   "metadata": {},
   "outputs": [],
   "source": [
    "def convert_nodal_info(input_data):\n",
    "    converted = []\n",
    "    for line in input_data.strip().split('\\n'):\n",
    "        parts = [x.strip() for x in line.split(',')]\n",
    "        node_id = int(parts[0])\n",
    "        x, y = float(parts[1]), float(parts[2])\n",
    "        xbcode = 1 if x == 0 else 0\n",
    "        ybcode = 1 if x == 0 else 0  # 根据你的要求\n",
    "        zbcode = 1\n",
    "        z = 0.0\n",
    "        converted.append(f\"{node_id}\\t{xbcode}\\t{ybcode}\\t{zbcode}\\t{x}\\t\\t\\t{y}\\t\\t\\t{z}\")\n",
    "\n",
    "    print('\\n'.join(converted))"
   ]
  },
  {
   "cell_type": "code",
   "execution_count": null,
   "id": "a3cbf4e0",
   "metadata": {},
   "outputs": [],
   "source": [
    "input_data_1 = \"\"\"\n",
    "    1,           0.,           0.\n",
    "    2,           2.,           0.\n",
    "    3,           0.,           1.\n",
    "    4,           2.,           1.\n",
    "\"\"\"\n",
    "input_data_2 = \"\"\"\n",
    "      1,           0.,           0.\n",
    "      2,           1.,           0.\n",
    "      3,           2.,           0.\n",
    "      4,           0.,          0.5\n",
    "      5,           1.,          0.5\n",
    "      6,           2.,          0.5\n",
    "      7,           0.,           1.\n",
    "      8,           1.,           1.\n",
    "      9,           2.,           1.\n",
    "\"\"\"\n",
    "intput_data_3 = \"\"\"\n",
    "      1,           0.,           0.\n",
    "      2,          0.5,           0.\n",
    "      3,           1.,           0.\n",
    "      4,          1.5,           0.\n",
    "      5,           2.,           0.\n",
    "      6,           0.,         0.25\n",
    "      7,          0.5,         0.25\n",
    "      8,           1.,         0.25\n",
    "      9,          1.5,         0.25\n",
    "     10,           2.,         0.25\n",
    "     11,           0.,          0.5\n",
    "     12,          0.5,          0.5\n",
    "     13,           1.,          0.5\n",
    "     14,          1.5,          0.5\n",
    "     15,           2.,          0.5\n",
    "     16,           0.,         0.75\n",
    "     17,          0.5,         0.75\n",
    "     18,           1.,         0.75\n",
    "     19,          1.5,         0.75\n",
    "     20,           2.,         0.75\n",
    "     21,           0.,           1.\n",
    "     22,          0.5,           1.\n",
    "     23,           1.,           1.\n",
    "     24,          1.5,           1.\n",
    "     25,           2.,           1.\n",
    "\"\"\""
   ]
  },
  {
   "cell_type": "markdown",
   "id": "0d4b6031",
   "metadata": {},
   "source": [
    "基于书上练习题4.12，采取L=2, h=1, b=1, E=1e4, nu=0, F=1。"
   ]
  },
  {
   "cell_type": "code",
   "execution_count": 31,
   "id": "03ce41f6",
   "metadata": {},
   "outputs": [],
   "source": [
    "L = 2\n",
    "h = 1\n",
    "E = 1e4\n",
    "nu = 0\n",
    "F = 1\n",
    "b = 1\n",
    "I = b*h**3/12\n",
    "u = lambda x, y : F*h/(E*I)*x*y\n",
    "v = lambda x : -F*h/(2*E*I)*x**2\n",
    "sigma_x = lambda y : F*h/I*y\n",
    "sigma_y = 0\n",
    "tau_xy = 0"
   ]
  }
 ],
 "metadata": {
  "kernelspec": {
   "display_name": "base",
   "language": "python",
   "name": "python3"
  },
  "language_info": {
   "codemirror_mode": {
    "name": "ipython",
    "version": 3
   },
   "file_extension": ".py",
   "mimetype": "text/x-python",
   "name": "python",
   "nbconvert_exporter": "python",
   "pygments_lexer": "ipython3",
   "version": "3.10.16"
  }
 },
 "nbformat": 4,
 "nbformat_minor": 5
}
